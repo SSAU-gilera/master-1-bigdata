{
 "cells": [
  {
   "cell_type": "markdown",
   "id": "81b003de",
   "metadata": {},
   "source": [
    "<p style=\"text-align: center;\">МИНИСТЕРСТВО ОБРАЗОВАНИЯ И НАУКИ\n",
    "РОССИЙСКОЙ ФЕДЕРАЦИИ</p>\n",
    "\n",
    "<p style=\"text-align: center;\">Федеральное государственное автономное\n",
    "образовательное учреждение высшего образования\n",
    "«Самарский национальный исследовательский университет\n",
    "имени академика С. П. Королева»\n",
    "(Самарский университет)</p>\n",
    "<br>\n",
    "<br>\n",
    "\n",
    "<p style=\"text-align: center;\">Институт информатики и кибернетики</p>\n",
    "\n",
    "<p style=\"text-align: center;\">Факультет информатики</p>\n",
    "\n",
    "<p style=\"text-align: center;\">Кафедра технической кибернетики</p>\n",
    "\n",
    "<br><br>\n",
    "\n",
    "<p style=\"text-align: center;\">ОТЧЁТ</p>\n",
    "\n",
    "<p style=\"text-align: center;\">по лабораторной работе № 1</p>\n",
    "<p style=\"text-align: center;\">«Оценка коэффициента корреляции Пирсона»</p>\n",
    "<p style=\"text-align: center;\">по курсу «Интеллектуальный анализ данных и большие данные»</p>\n",
    "\n",
    "<p style=\"text-align: center;\">Вариант 4</p>\n",
    "<br><br><br><br>\n",
    "\n",
    "\n",
    "\n",
    "\n",
    "\n",
    "\n",
    "\n",
    "<p style=\"text-align: right;\">Выполнила: Гижевская В.Д.</p>\n",
    "<p style=\"text-align: right;\">гр. 6131-020402D</p>\n",
    "<p style=\"text-align: right;\">Проверил: Попов С. Б.</p>\n",
    "<br><br><br><br><br>\n",
    "\n",
    "\n",
    "\n",
    "\n",
    "\n",
    "\n",
    "\n",
    "<p style=\"text-align: center;\">Самара 2022</p>\n",
    "<br><br>"
   ]
  },
  {
   "cell_type": "markdown",
   "id": "7740e9c9",
   "metadata": {},
   "source": [
    "# Задание на лабораторную работу № 1 \n",
    "\n",
    "Входные данные: n объектов, каждый из которых характеризуется двумя числовыми признаками x, y. \n",
    "\n",
    "Требуется исследовать степень взаимосвязи между двумя признаками некоторых объектов. Для каждого набора данных необходимо выполнить следующие задания. \n",
    "\n",
    "1.Визуализировать данные на плоскости в виде точек с координатами x, y. \n",
    "\n",
    "2.Статистически оценить коэффициент корреляции Пирсона между признаками x и y. \n",
    "\n",
    "3.Проверить статистическую гипотезу о некоррелированности признаков x и y на уровне значимости 0,05. "
   ]
  },
  {
   "cell_type": "markdown",
   "id": "2cd850a7",
   "metadata": {},
   "source": [
    "### Вариант - Automobile Data Set\n",
    "\n",
    "Название файла: imports-85.data\n",
    "\n",
    "Ссылка: http://archive.ics.uci.edu/ml/datasets/Automobile\n",
    "\n",
    "Первый признак: length (столбец 11)\n",
    "\n",
    "Второй признак: width (столбец 12)\n",
    "\n",
    "Класс: num-of-doors (столбец No 6): four, two"
   ]
  },
  {
   "cell_type": "markdown",
   "id": "bc58a89d",
   "metadata": {},
   "source": [
    "# Ход работы"
   ]
  },
  {
   "cell_type": "markdown",
   "id": "d339ecc3",
   "metadata": {},
   "source": [
    "## Задание 1\n",
    "\n",
    "Отрисовка графика выполняется с помощью tkinter. Tkinter – это пакет для Python, предназначенный для работы с библиотекой Tk. Библиотека Tk содержит компоненты графического интерфейса пользователя.\n",
    "\n",
    "Чтение данных выполняются с помощью pandas — программной библиотеки на языке Python для обработки и анализа данных. Чтобы получить доступ к данным из файла CSV, требуется функция read_csv()."
   ]
  },
  {
   "cell_type": "code",
   "execution_count": 18,
   "id": "abbe204c",
   "metadata": {},
   "outputs": [],
   "source": [
    "import tkinter as tk\n",
    "import matplotlib.pyplot as plt\n",
    "from matplotlib.backends.backend_tkagg import FigureCanvasTkAgg\n",
    "import pandas as pd\n",
    "from scipy.stats import pearsonr\n",
    "import warnings\n",
    "\n",
    "warnings.filterwarnings(\"ignore\")\n",
    "\n",
    "data = pd.read_csv('imports-85.data', header=None)[[10, 11]].rename(columns={10: 'length', 11: 'width'})\n",
    "x = data['length']\n",
    "y = data['width']\n",
    "\n",
    "root = tk.Tk()\n",
    "\n",
    "figure1 = plt.Figure(figsize=(6, 5), dpi=100)\n",
    "ax1 = figure1.add_subplot()\n",
    "bar1 = FigureCanvasTkAgg(figure1, root)\n",
    "bar1.get_tk_widget().pack(side=tk.LEFT, fill=tk.BOTH)\n",
    "ax1.scatter('length', 'width', data=data)\n",
    "ax1.set_title('Length Vs. Width')\n",
    "\n",
    "root.mainloop()"
   ]
  },
  {
   "attachments": {
    "image.png": {
     "image/png": "[encoded data removed]"
    }
   },
   "cell_type": "markdown",
   "id": "b381e2f8",
   "metadata": {},
   "source": [
    "### Задание 2\n",
    "\n",
    "Коэффициент корреляции Пирсона и p-значение для проверки некорреляции. Коэффициент корреляции рассчитывается следующим образом:\n",
    "\n",
    "![image.png](attachment:image.png)\n",
    "\n",
    "Коэффициент корреляции Пирсона измеряет линейную взаимосвязь между двумя наборами данных. Как и другие коэффициенты корреляции, этот варьируется от -1 до +1, при этом 0 означает отсутствие корреляции. Корреляции, равные -1 или +1, подразумевают точную линейную зависимость. "
   ]
  },
  {
   "cell_type": "code",
   "execution_count": 17,
   "id": "2439283b",
   "metadata": {},
   "outputs": [
    {
     "name": "stdout",
     "output_type": "stream",
     "text": [
      "Корреляция Пирсона = 0.8411182684818449\n"
     ]
    }
   ],
   "source": [
    "cor, p = pearsonr(x, y)\n",
    "print(f'Корреляция Пирсона = {cor}')"
   ]
  },
  {
   "attachments": {
    "image-2.png": {
     "image/png": "[encoded data removed]"
    },
    "image-3.png": {
     "image/png": "[encoded data removed]"
    }
   },
   "cell_type": "markdown",
   "id": "dc9ecef8",
   "metadata": {},
   "source": [
    "### Задание 3\n",
    "\n",
    "Значение p может быть вычислено как: \n",
    "\n",
    "![image-3.png](attachment:image-3.png)\n",
    "\n",
    "где dist: \n",
    "\n",
    "![image-2.png](attachment:image-2.png)"
   ]
  },
  {
   "cell_type": "code",
   "execution_count": 16,
   "id": "018334f6",
   "metadata": {},
   "outputs": [
    {
     "name": "stdout",
     "output_type": "stream",
     "text": [
      "Признаки коррелированы на уровне значимости = 0.05, p = 4.332386050436918e-56\n"
     ]
    }
   ],
   "source": [
    "alpha = 0.05\n",
    "if p > alpha:\n",
    "    print(f'Признаки некоррелированы на уровне значимости = {alpha}, p = {p}')\n",
    "else:\n",
    "    print(f'Признаки коррелированы на уровне значимости = {alpha}, p = {p}')\n"
   ]
  },
  {
   "cell_type": "code",
   "execution_count": null,
   "id": "fa2e72d7",
   "metadata": {},
   "outputs": [],
   "source": []
  }
 ],
 "metadata": {
  "kernelspec": {
   "display_name": "Python 3 (ipykernel)",
   "language": "python",
   "name": "python3"
  },
  "language_info": {
   "codemirror_mode": {
    "name": "ipython",
    "version": 3
   },
   "file_extension": ".py",
   "mimetype": "text/x-python",
   "name": "python",
   "nbconvert_exporter": "python",
   "pygments_lexer": "ipython3",
   "version": "3.9.0"
  }
 },
 "nbformat": 4,
 "nbformat_minor": 5
}
